{
 "cells": [
  {
   "cell_type": "code",
   "execution_count": 1,
   "id": "21c630ba",
   "metadata": {},
   "outputs": [],
   "source": [
    "import pandas as pd\n",
    "import requests\n",
    "from bs4 import BeautifulSoup\n",
    "import numpy as np\n",
    "import re"
   ]
  },
  {
   "cell_type": "code",
   "execution_count": 2,
   "id": "eac613c3",
   "metadata": {},
   "outputs": [],
   "source": [
    "webpage=requests.get('https://internshala.com/internships/page-1/').text"
   ]
  },
  {
   "cell_type": "code",
   "execution_count": 3,
   "id": "2adc6c95",
   "metadata": {},
   "outputs": [],
   "source": [
    "soup=BeautifulSoup(webpage,'lxml')"
   ]
  },
  {
   "cell_type": "code",
   "execution_count": 4,
   "id": "6ad839c2",
   "metadata": {},
   "outputs": [],
   "source": [
    "intern=soup.find_all('div', class_='individual_internship')"
   ]
  },
  {
   "cell_type": "code",
   "execution_count": 5,
   "id": "48e7cd30",
   "metadata": {},
   "outputs": [
    {
     "data": {
      "text/plain": [
       "'Business Development (Sales)'"
      ]
     },
     "execution_count": 5,
     "metadata": {},
     "output_type": "execute_result"
    }
   ],
   "source": [
    "intern[0].find_all('a', class_='view_detail_button')[0].text"
   ]
  },
  {
   "cell_type": "code",
   "execution_count": 6,
   "id": "fcd4788b",
   "metadata": {},
   "outputs": [
    {
     "data": {
      "text/plain": [
       "'AUMHUM'"
      ]
     },
     "execution_count": 6,
     "metadata": {},
     "output_type": "execute_result"
    }
   ],
   "source": [
    "intern[0].find_all('a', class_='view_detail_button')[1].text.strip()"
   ]
  },
  {
   "cell_type": "code",
   "execution_count": 7,
   "id": "12b5af31",
   "metadata": {},
   "outputs": [
    {
     "data": {
      "text/plain": [
       "'Work From Home'"
      ]
     },
     "execution_count": 7,
     "metadata": {},
     "output_type": "execute_result"
    }
   ],
   "source": [
    "intern[0].find_all('a', class_='view_detail_button')[2].text"
   ]
  },
  {
   "cell_type": "code",
   "execution_count": 8,
   "id": "48affe97",
   "metadata": {},
   "outputs": [
    {
     "data": {
      "text/plain": [
       "'Immediately'"
      ]
     },
     "execution_count": 8,
     "metadata": {},
     "output_type": "execute_result"
    }
   ],
   "source": [
    "intern[0].find_all('div', class_='item_body')[0].text[19:].strip()"
   ]
  },
  {
   "cell_type": "code",
   "execution_count": 9,
   "id": "e2ef8bb0",
   "metadata": {},
   "outputs": [
    {
     "data": {
      "text/plain": [
       "'2 Months'"
      ]
     },
     "execution_count": 9,
     "metadata": {},
     "output_type": "execute_result"
    }
   ],
   "source": [
    "intern[0].find_all('div', class_='item_body')[1].text.strip()"
   ]
  },
  {
   "cell_type": "code",
   "execution_count": 10,
   "id": "47fae596",
   "metadata": {},
   "outputs": [
    {
     "data": {
      "text/plain": [
       "'1,000 /month +  Incentives'"
      ]
     },
     "execution_count": 10,
     "metadata": {},
     "output_type": "execute_result"
    }
   ],
   "source": [
    "intern[0].find_all('div', class_='item_body')[2].text.strip()"
   ]
  },
  {
   "cell_type": "code",
   "execution_count": 11,
   "id": "1d36dbac",
   "metadata": {},
   "outputs": [
    {
     "data": {
      "text/plain": [
       "\"7 Sep' 22\""
      ]
     },
     "execution_count": 11,
     "metadata": {},
     "output_type": "execute_result"
    }
   ],
   "source": [
    "intern[0].find_all('div', class_='item_body')[3].text.strip()"
   ]
  },
  {
   "cell_type": "code",
   "execution_count": 12,
   "id": "418d320e",
   "metadata": {},
   "outputs": [
    {
     "data": {
      "text/plain": [
       "'Part time allowed'"
      ]
     },
     "execution_count": 12,
     "metadata": {},
     "output_type": "execute_result"
    }
   ],
   "source": [
    "intern[0].find_all('div', class_='item_body')[4].text.strip()"
   ]
  },
  {
   "cell_type": "code",
   "execution_count": 13,
   "id": "6ae2c74b",
   "metadata": {},
   "outputs": [],
   "source": [
    "domain=[]\n",
    "company=[]\n",
    "location=[]\n",
    "start_date=[]\n",
    "duration=[]\n",
    "stipend=[]\n",
    "apply_by=[]\n",
    "# type_of_job=[]\n",
    "\n",
    "for i in intern:\n",
    "    domain.append(i.find_all('a', class_='view_detail_button')[0].text)\n",
    "    company.append(i.find_all('a', class_='view_detail_button')[1].text.strip())\n",
    "    location.append(i.find_all('a', class_='view_detail_button')[2].text)\n",
    "    start_date.append(i.find_all('div', class_='item_body')[0].text[19:].strip())\n",
    "    duration.append(i.find_all('div', class_='item_body')[1].text.strip())\n",
    "    stipend.append(i.find_all('div', class_='item_body')[2].text.strip())\n",
    "    apply_by.append(i.find_all('div', class_='item_body')[3].text.strip())\n",
    "#     type_of_job.append(i.find_all('div', class_='item_body')[4].text.strip())\n",
    "\n",
    "d={'Domain':domain,'Company':company, 'Location':location, 'Start_Date':start_date,'Duration':duration,'Stipend':stipend,'Apply_by':apply_by}\n",
    "internship=pd.DataFrame(d)"
   ]
  },
  {
   "cell_type": "code",
   "execution_count": 14,
   "id": "a55a4c55",
   "metadata": {},
   "outputs": [
    {
     "data": {
      "text/html": [
       "<div>\n",
       "<style scoped>\n",
       "    .dataframe tbody tr th:only-of-type {\n",
       "        vertical-align: middle;\n",
       "    }\n",
       "\n",
       "    .dataframe tbody tr th {\n",
       "        vertical-align: top;\n",
       "    }\n",
       "\n",
       "    .dataframe thead th {\n",
       "        text-align: right;\n",
       "    }\n",
       "</style>\n",
       "<table border=\"1\" class=\"dataframe\">\n",
       "  <thead>\n",
       "    <tr style=\"text-align: right;\">\n",
       "      <th></th>\n",
       "      <th>Domain</th>\n",
       "      <th>Company</th>\n",
       "      <th>Location</th>\n",
       "      <th>Start_Date</th>\n",
       "      <th>Duration</th>\n",
       "      <th>Stipend</th>\n",
       "      <th>Apply_by</th>\n",
       "    </tr>\n",
       "  </thead>\n",
       "  <tbody>\n",
       "    <tr>\n",
       "      <th>0</th>\n",
       "      <td>Business Development (Sales)</td>\n",
       "      <td>AUMHUM</td>\n",
       "      <td>Work From Home</td>\n",
       "      <td>Immediately</td>\n",
       "      <td>2 Months</td>\n",
       "      <td>1,000 /month +  Incentives</td>\n",
       "      <td>7 Sep' 22</td>\n",
       "    </tr>\n",
       "    <tr>\n",
       "      <th>1</th>\n",
       "      <td>Volunteering (Fundraising)</td>\n",
       "      <td>Childo Education Research And Development Foun...</td>\n",
       "      <td>Work From Home</td>\n",
       "      <td>Immediately</td>\n",
       "      <td>2 Weeks</td>\n",
       "      <td>Unpaid</td>\n",
       "      <td>26 Aug' 22</td>\n",
       "    </tr>\n",
       "    <tr>\n",
       "      <th>2</th>\n",
       "      <td>Operations</td>\n",
       "      <td>Hamari Pahchan NGO</td>\n",
       "      <td>Work From Home</td>\n",
       "      <td>Immediately</td>\n",
       "      <td>1 Month</td>\n",
       "      <td>Unpaid</td>\n",
       "      <td>5 Sep' 22</td>\n",
       "    </tr>\n",
       "    <tr>\n",
       "      <th>3</th>\n",
       "      <td>Business Development (Sales)</td>\n",
       "      <td>ZAPS Marketing Private Limited</td>\n",
       "      <td>Hyderabad</td>\n",
       "      <td>Immediately</td>\n",
       "      <td>3 Months</td>\n",
       "      <td>3,000-20,000 /month</td>\n",
       "      <td>25 Aug' 22</td>\n",
       "    </tr>\n",
       "    <tr>\n",
       "      <th>4</th>\n",
       "      <td>Social Media Marketing</td>\n",
       "      <td>Cricket Academy of Pathans</td>\n",
       "      <td>Delhi</td>\n",
       "      <td>Immediately</td>\n",
       "      <td>2 Months</td>\n",
       "      <td>10,000-12,000 /month</td>\n",
       "      <td>30 Aug' 22</td>\n",
       "    </tr>\n",
       "  </tbody>\n",
       "</table>\n",
       "</div>"
      ],
      "text/plain": [
       "                         Domain  \\\n",
       "0  Business Development (Sales)   \n",
       "1    Volunteering (Fundraising)   \n",
       "2                    Operations   \n",
       "3  Business Development (Sales)   \n",
       "4        Social Media Marketing   \n",
       "\n",
       "                                             Company        Location  \\\n",
       "0                                             AUMHUM  Work From Home   \n",
       "1  Childo Education Research And Development Foun...  Work From Home   \n",
       "2                                 Hamari Pahchan NGO  Work From Home   \n",
       "3                     ZAPS Marketing Private Limited       Hyderabad   \n",
       "4                         Cricket Academy of Pathans           Delhi   \n",
       "\n",
       "    Start_Date  Duration                     Stipend    Apply_by  \n",
       "0  Immediately  2 Months  1,000 /month +  Incentives   7 Sep' 22  \n",
       "1  Immediately   2 Weeks                      Unpaid  26 Aug' 22  \n",
       "2  Immediately   1 Month                      Unpaid   5 Sep' 22  \n",
       "3  Immediately  3 Months         3,000-20,000 /month  25 Aug' 22  \n",
       "4  Immediately  2 Months        10,000-12,000 /month  30 Aug' 22  "
      ]
     },
     "execution_count": 14,
     "metadata": {},
     "output_type": "execute_result"
    }
   ],
   "source": [
    "internship.head()"
   ]
  },
  {
   "cell_type": "code",
   "execution_count": 15,
   "id": "7527b4e5",
   "metadata": {},
   "outputs": [],
   "source": [
    "final=pd.DataFrame()\n",
    "\n",
    "for i in range(1,269):\n",
    "    webpage=requests.get('https://internshala.com/internships/page-{}/'.format(i)).text\n",
    "    soup=BeautifulSoup(webpage,'lxml')\n",
    "    intern=soup.find_all('div', class_='individual_internship')\n",
    "    \n",
    "    domain=[]\n",
    "    company=[]\n",
    "    location=[]\n",
    "    start_date=[]\n",
    "    duration=[]\n",
    "    stipend=[]\n",
    "    apply_by=[] \n",
    "    \n",
    "    for i in intern:\n",
    "        try:\n",
    "            domain.append(i.find_all('a', class_='view_detail_button')[0].text)\n",
    "        except:\n",
    "            domain.append(np.nan)\n",
    "            \n",
    "            \n",
    "        try:\n",
    "            company.append(i.find_all('a', class_='view_detail_button')[1].text.strip())\n",
    "        except:\n",
    "            company.append(np.nan)\n",
    "            \n",
    "            \n",
    "        try:\n",
    "            location.append(i.find_all('a', class_='view_detail_button')[2].text)\n",
    "        except:\n",
    "            location.append(np.nan)\n",
    "        try:\n",
    "            start_date.append(i.find_all('div', class_='item_body')[0].text[19:].strip())\n",
    "        except:\n",
    "            start_date.append(np.nan)\n",
    "        try:\n",
    "            duration.append(i.find_all('div', class_='item_body')[1].text.strip())\n",
    "        except:\n",
    "            duration.append(np.nan)\n",
    "        try:\n",
    "            stipend.append(i.find_all('div', class_='item_body')[2].text.strip())\n",
    "        except:\n",
    "            stipend.append(np.nan)\n",
    "        try:\n",
    "            apply_by.append(i.find_all('div', class_='item_body')[3].text.strip())\n",
    "        except:\n",
    "            apply_by.append(np.nan)\n",
    "        \n",
    "        \n",
    "    d={'Domain':domain,'Company':company, 'Location':location, 'Start_Date':start_date,'Duration':duration,'Stipend':stipend,'Apply_by':apply_by}\n",
    "    internship=pd.DataFrame(d)\n",
    "    final=final.append(internship, ignore_index=True)\n"
   ]
  },
  {
   "cell_type": "code",
   "execution_count": 16,
   "id": "ea3c249f",
   "metadata": {},
   "outputs": [
    {
     "data": {
      "text/plain": [
       "(10681, 7)"
      ]
     },
     "execution_count": 16,
     "metadata": {},
     "output_type": "execute_result"
    }
   ],
   "source": [
    "final.shape"
   ]
  },
  {
   "cell_type": "code",
   "execution_count": 20,
   "id": "21908a1c",
   "metadata": {},
   "outputs": [],
   "source": [
    "final.to_csv('intern.csv')"
   ]
  }
 ],
 "metadata": {
  "kernelspec": {
   "display_name": "Python 3 (ipykernel)",
   "language": "python",
   "name": "python3"
  },
  "language_info": {
   "codemirror_mode": {
    "name": "ipython",
    "version": 3
   },
   "file_extension": ".py",
   "mimetype": "text/x-python",
   "name": "python",
   "nbconvert_exporter": "python",
   "pygments_lexer": "ipython3",
   "version": "3.9.7"
  }
 },
 "nbformat": 4,
 "nbformat_minor": 5
}
