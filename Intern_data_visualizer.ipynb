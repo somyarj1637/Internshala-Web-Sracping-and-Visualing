{
 "cells": [
  {
   "cell_type": "code",
   "execution_count": 1,
   "id": "3b566829",
   "metadata": {},
   "outputs": [],
   "source": [
    "import pandas as pd"
   ]
  },
  {
   "cell_type": "code",
   "execution_count": 2,
   "id": "a8dc5958",
   "metadata": {},
   "outputs": [],
   "source": [
    "intern=pd.read_csv('intern.csv')"
   ]
  },
  {
   "cell_type": "code",
   "execution_count": 4,
   "id": "945bc6f4",
   "metadata": {},
   "outputs": [
    {
     "name": "stdout",
     "output_type": "stream",
     "text": [
      "<class 'pandas.core.frame.DataFrame'>\n",
      "RangeIndex: 10681 entries, 0 to 10680\n",
      "Data columns (total 8 columns):\n",
      " #   Column      Non-Null Count  Dtype \n",
      "---  ------      --------------  ----- \n",
      " 0   Unnamed: 0  10681 non-null  int64 \n",
      " 1   Domain      10681 non-null  object\n",
      " 2   Company     10681 non-null  object\n",
      " 3   Location    10681 non-null  object\n",
      " 4   Start_Date  10681 non-null  object\n",
      " 5   Duration    10681 non-null  object\n",
      " 6   Stipend     10681 non-null  object\n",
      " 7   Apply_by    10681 non-null  object\n",
      "dtypes: int64(1), object(7)\n",
      "memory usage: 667.7+ KB\n"
     ]
    }
   ],
   "source": [
    "intern.info()"
   ]
  },
  {
   "cell_type": "code",
   "execution_count": null,
   "id": "848f17a3",
   "metadata": {},
   "outputs": [],
   "source": [
    "# !pip install pandas-profiling"
   ]
  },
  {
   "cell_type": "code",
   "execution_count": null,
   "id": "0371c4f2",
   "metadata": {},
   "outputs": [],
   "source": [
    "from pandas_profiling import ProfileReport\n",
    "prof=ProfileReport(final)\n",
    "\n",
    "prof.to_file('output.html')"
   ]
  }
 ],
 "metadata": {
  "kernelspec": {
   "display_name": "Python 3 (ipykernel)",
   "language": "python",
   "name": "python3"
  },
  "language_info": {
   "codemirror_mode": {
    "name": "ipython",
    "version": 3
   },
   "file_extension": ".py",
   "mimetype": "text/x-python",
   "name": "python",
   "nbconvert_exporter": "python",
   "pygments_lexer": "ipython3",
   "version": "3.9.7"
  }
 },
 "nbformat": 4,
 "nbformat_minor": 5
}
